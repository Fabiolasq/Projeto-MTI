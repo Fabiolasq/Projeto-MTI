{
 "cells": [
  {
   "cell_type": "markdown",
   "id": "3634ddca",
   "metadata": {},
   "source": [
    "    UM PANORAMA DO CENÁRIO DE INADIMPLÊNCIA DAS FAMILIAS BRASILEIRAS EM 2021, ASSOCIADOS ÀS VARIÁVEIS RENDA E DESEMPREGO.\n",
    "\n",
    "\n",
    "\n",
    "A Pesquisa de Endividamento e Inadimplência do Consumidor (PEIC), relata que em 2021, houve um aumento recorde onde, mais de 70,9 % das famílias brasileiras estariam endividadas. Inicialmente é necessário identificar os motivos e possíveis fatores que levam ao endividamento, assim como compreender as caracteristicas socioeconômicas das variáveis demográficas, o perfil das empresas e de seus clientes, e como as taxas de desemprego desdobram-se em efeitos no sistema financeiro, num contexto macro econômico.\n",
    "Os índices de Endividamento e Inadimplência dos consumidores tornam-se cada vez mais altos no Brasil. A identificação dos possíveis fatores tornou-se um parâmetro necessário para que as empresas tracem um planejamento estratégico facilitado e orientado. O objetivo deste trabalho é demonstrar através da análise em dados públicos de pesquisas descritivas, a relação entre a renda, desemprego, endividamento e inadimplência utilizando a linguagem Python. Com a implementação de análise temporal, os resultados indicam que as variáveis de forma isolada não possuem capacidade decisiva, mas podem proporcionar oportunidades de discursões e adequações para um planejamento a longo prazo, condicionando às expectativas e objetivos da organização."
   ]
  },
  {
   "cell_type": "markdown",
   "id": "b6a3dca4",
   "metadata": {},
   "source": [
    "DADOS DE DESEMPREGO E RENDA\n",
    "\n",
    "A Pesquisa Nacional por Amostra de Domicílios Contínua (PNAD), realizada pelo Instituto Brasileiro de Geografia e Estatística (IBGE) apresenta informações contínuas com características demográficas sobre a população brasileira no mercado de trabalho, e o desenvolvimento socioeconômico do Brasil. A pesquisa é elaborada por amostragem probabilística, trimestralmente, num esquema de rotação da amostra adotada nomeado de 1-2(5), onde o domicílio é entrevistado 1 mês e sai da amostra por 2 meses seguidos, sendo esta sequência repetida 5 vezes, as manutenções destes dados são feitas por um banco de dados agregados chamado SIDRABrasil, abrangendo 20 Regiões Metropolitanas e Municípios das Capitais brasileiras(IBGE)."
   ]
  },
  {
   "cell_type": "markdown",
   "id": "c2dbc5df",
   "metadata": {},
   "source": [
    "DADOS ENDIVIDAMENTO\n",
    "\n",
    "Os dados foram obtidos da Pesquisa de Endividamento e Inadimplência do Consumidor (PEIC), apurado mensalmente pela CNC desde janeiro de 2010, e coleta dados de 18.000 consumidores em todas as capitais do Brasil. Tem por objetivo apurar importantes indicadores como: ní¬vel de endividamento, percentual de inadimplentes, possíveis fatores que impulsionaram a divida, nível de comprometimento da renda entre outros e ainda, no sentido de  monitoramento do endividamento do consumidor"
   ]
  },
  {
   "cell_type": "markdown",
   "id": "5859a4af",
   "metadata": {},
   "source": [
    "EXTRAÇÃO DE DADOS\n",
    "\n",
    "Sabendo que foram utilizadas bases de dados diferentes, teremos três ficheiros para a análise: Rendimento.xls, tx_desocupacao.xls, endividamentobra.xls, arquivos renomeados e as colunas reordenadas ( coluna transformada em linha, e linha em coluna) para fácil manipulação, pois constam na base de dados como download automático. Assim, foi feita a programação no Jupyter notebook."
   ]
  },
  {
   "cell_type": "code",
   "execution_count": 5,
   "id": "b48b81f6",
   "metadata": {},
   "outputs": [],
   "source": [
    "#Importação as bibliotecas necessárias.\n",
    "\n",
    "import pandas as pd # Analise e manipulação das planilhas\n",
    "import numpy as np #realizar cálculos em Arrays, ou seja , dados de forma ordenada\n",
    "import matplotlib.pyplot as plt #criação de gráficos em 2D \n",
    "import seaborn as sns \n",
    "import locale\n",
    "import datetime"
   ]
  },
  {
   "cell_type": "code",
   "execution_count": 6,
   "id": "2be02706",
   "metadata": {},
   "outputs": [
    {
     "data": {
      "text/plain": [
       "'pt_BR.utf8'"
      ]
     },
     "execution_count": 6,
     "metadata": {},
     "output_type": "execute_result"
    }
   ],
   "source": [
    "#Importando padrão Português pois o Python trabalha com dados em Inglês\n",
    "locale.setlocale(locale.LC_ALL, 'pt_BR.utf8')"
   ]
  },
  {
   "cell_type": "code",
   "execution_count": 7,
   "id": "87c9c5d1",
   "metadata": {},
   "outputs": [
    {
     "data": {
      "text/plain": [
       "('pt_BR', 'UTF-8')"
      ]
     },
     "execution_count": 7,
     "metadata": {},
     "output_type": "execute_result"
    }
   ],
   "source": [
    "#Conferindo localização\n",
    "locale.getlocale()"
   ]
  },
  {
   "cell_type": "code",
   "execution_count": 8,
   "id": "d8d2889b",
   "metadata": {},
   "outputs": [],
   "source": [
    "#Importação da base de Dados da variável TAXA DE DESEMPREGO. \n",
    "\n",
    "tx_desocupacao = pd.read_excel('C:/Users/Fabiola/OneDrive/Documentos/MTI/Artigo/Dados/tx_desocupacao.xls')"
   ]
  },
  {
   "cell_type": "code",
   "execution_count": 9,
   "id": "e22e3743",
   "metadata": {},
   "outputs": [
    {
     "data": {
      "text/html": [
       "<div>\n",
       "<style scoped>\n",
       "    .dataframe tbody tr th:only-of-type {\n",
       "        vertical-align: middle;\n",
       "    }\n",
       "\n",
       "    .dataframe tbody tr th {\n",
       "        vertical-align: top;\n",
       "    }\n",
       "\n",
       "    .dataframe thead th {\n",
       "        text-align: right;\n",
       "    }\n",
       "</style>\n",
       "<table border=\"1\" class=\"dataframe\">\n",
       "  <thead>\n",
       "    <tr style=\"text-align: right;\">\n",
       "      <th></th>\n",
       "      <th>Datas</th>\n",
       "      <th>Indices</th>\n",
       "    </tr>\n",
       "  </thead>\n",
       "  <tbody>\n",
       "    <tr>\n",
       "      <th>0</th>\n",
       "      <td>jan-fev-mar 2012</td>\n",
       "      <td>8.0</td>\n",
       "    </tr>\n",
       "    <tr>\n",
       "      <th>1</th>\n",
       "      <td>fev-mar-abr 2012</td>\n",
       "      <td>7.8</td>\n",
       "    </tr>\n",
       "    <tr>\n",
       "      <th>2</th>\n",
       "      <td>mar-abr-mai 2012</td>\n",
       "      <td>7.7</td>\n",
       "    </tr>\n",
       "    <tr>\n",
       "      <th>3</th>\n",
       "      <td>abr-mai-jun 2012</td>\n",
       "      <td>7.6</td>\n",
       "    </tr>\n",
       "    <tr>\n",
       "      <th>4</th>\n",
       "      <td>mai-jun-jul 2012</td>\n",
       "      <td>7.5</td>\n",
       "    </tr>\n",
       "  </tbody>\n",
       "</table>\n",
       "</div>"
      ],
      "text/plain": [
       "              Datas  Indices\n",
       "0  jan-fev-mar 2012      8.0\n",
       "1  fev-mar-abr 2012      7.8\n",
       "2  mar-abr-mai 2012      7.7\n",
       "3  abr-mai-jun 2012      7.6\n",
       "4  mai-jun-jul 2012      7.5"
      ]
     },
     "execution_count": 9,
     "metadata": {},
     "output_type": "execute_result"
    }
   ],
   "source": [
    "#Visualização do Dataframe\n",
    "\n",
    "tx_desocupacao.head()"
   ]
  },
  {
   "cell_type": "code",
   "execution_count": 12,
   "id": "1030a71e",
   "metadata": {},
   "outputs": [
    {
     "name": "stdout",
     "output_type": "stream",
     "text": [
      "['jan-fev-mar 2012', 'fev-mar-abr 2012', 'mar-abr-mai 2012', 'abr-mai-jun 2012', 'mai-jun-jul 2012', 'jun-jul-ago 2012', 'jul-ago-set 2012', 'ago-set-out 2012', 'set-out-nov 2012', 'out-nov-dez 2012', 'nov-dez-jan 2013', 'dez-jan-fev 2013', 'jan-fev-mar 2013', 'fev-mar-abr 2013', 'mar-abr-mai 2013', 'abr-mai-jun 2013', 'mai-jun-jul 2013', 'jun-jul-ago 2013', 'jul-ago-set 2013', 'ago-set-out 2013', 'set-out-nov 2013', 'out-nov-dez 2013', 'nov-dez-jan 2014', 'dez-jan-fev 2014', 'jan-fev-mar 2014', 'fev-mar-abr 2014', 'mar-abr-mai 2014', 'abr-mai-jun 2014', 'mai-jun-jul 2014', 'jun-jul-ago 2014', 'jul-ago-set 2014', 'ago-set-out 2014', 'set-out-nov 2014', 'out-nov-dez 2014', 'nov-dez-jan 2015', 'dez-jan-fev 2015', 'jan-fev-mar 2015', 'fev-mar-abr 2015', 'mar-abr-mai 2015', 'abr-mai-jun 2015', 'mai-jun-jul 2015', 'jun-jul-ago 2015', 'jul-ago-set 2015', 'ago-set-out 2015', 'set-out-nov 2015', 'out-nov-dez 2015', 'nov-dez-jan 2016', 'dez-jan-fev 2016', 'jan-fev-mar 2016', 'fev-mar-abr 2016', 'mar-abr-mai 2016', 'abr-mai-jun 2016', 'mai-jun-jul 2016', 'jun-jul-ago 2016', 'jul-ago-set 2016', 'ago-set-out 2016', 'set-out-nov 2016', 'out-nov-dez 2016', 'nov-dez-jan 2017', 'dez-jan-fev 2017', 'jan-fev-mar 2017', 'fev-mar-abr 2017', 'mar-abr-mai 2017', 'abr-mai-jun 2017', 'mai-jun-jul 2017', 'jun-jul-ago 2017', 'jul-ago-set 2017', 'ago-set-out 2017', 'set-out-nov 2017', 'out-nov-dez 2017', 'nov-dez-jan 2018', 'dez-jan-fev 2018', 'jan-fev-mar 2018', 'fev-mar-abr 2018', 'mar-abr-mai 2018', 'abr-mai-jun 2018', 'mai-jun-jul 2018', 'jun-jul-ago 2018', 'jul-ago-set 2018', 'ago-set-out 2018', 'set-out-nov 2018', 'out-nov-dez 2018', 'nov-dez-jan 2019', 'dez-jan-fev 2019', 'jan-fev-mar 2019', 'fev-mar-abr 2019', 'mar-abr-mai 2019', 'abr-mai-jun 2019', 'mai-jun-jul 2019', 'jun-jul-ago 2019', 'jul-ago-set 2019', 'ago-set-out 2019', 'set-out-nov 2019', 'out-nov-dez 2019', 'nov-dez-jan 2020', 'dez-jan-fev 2020', 'jan-fev-mar 2020', 'fev-mar-abr 2020', 'mar-abr-mai 2020', 'abr-mai-jun 2020', 'mai-jun-jul 2020', 'jun-jul-ago 2020', 'jul-ago-set 2020', 'ago-set-out 2020', 'set-out-nov 2020', 'out-nov-dez 2020', 'nov-dez-jan 2021', 'dez-jan-fev 2021', 'jan-fev-mar 2021', 'fev-mar-abr 2021', 'mar-abr-mai 2021', 'abr-mai-jun 2021', 'mai-jun-jul 2021', 'jun-jul-ago 2021', 'jul-ago-set 2021', 'ago-set-out 2021', 'set-out-nov 2021']\n"
     ]
    }
   ],
   "source": [
    "# Visualização as strings em lista para realizar a padronização das datas para análise.\n",
    "\n",
    "print(tx_desocupacao['Datas'].to_list())"
   ]
  },
  {
   "cell_type": "code",
   "execution_count": 13,
   "id": "72179136",
   "metadata": {},
   "outputs": [
    {
     "name": "stdout",
     "output_type": "stream",
     "text": [
      "<class 'pandas.core.frame.DataFrame'>\n",
      "RangeIndex: 117 entries, 0 to 116\n",
      "Data columns (total 2 columns):\n",
      " #   Column   Non-Null Count  Dtype  \n",
      "---  ------   --------------  -----  \n",
      " 0   Datas    117 non-null    object \n",
      " 1   Indices  117 non-null    float64\n",
      "dtypes: float64(1), object(1)\n",
      "memory usage: 2.0+ KB\n"
     ]
    }
   ],
   "source": [
    "#Foi necessário visualizar mais informações dos dados quanto ao tipo e nome das colunas.\n",
    "tx_desocupacao.info()"
   ]
  },
  {
   "cell_type": "code",
   "execution_count": 14,
   "id": "8fcd3e2d",
   "metadata": {},
   "outputs": [
    {
     "name": "stdout",
     "output_type": "stream",
     "text": [
      "  Datas    Indices\n",
      "0  2012   7.380000\n",
      "1  2013   7.300000\n",
      "2  2014   6.875000\n",
      "3  2015   8.425000\n",
      "4  2016  11.383333\n",
      "5  2017  12.875000\n",
      "6  2018  12.383333\n",
      "7  2019  12.058333\n",
      "8  2020  13.500000\n",
      "9  2021  13.709091\n"
     ]
    }
   ],
   "source": [
    "#O formato das datas está em string selecionando um periodo de três meses , para melhor visualização fatianos a string.\n",
    "#Deixamos somente o ano para padronização.\n",
    "\n",
    "tx_desocupacao['Datas'] = tx_desocupacao['Datas'].apply(lambda x: x[12:16])\n",
    "\n",
    "# Como haviam vários períodos de analises , agrupamos por ano e calculamos a média.\n",
    "\n",
    "tx_desocupacao = tx_desocupacao.groupby(['Datas']).mean().reset_index()\n",
    "\n",
    "print(tx_desocupacao)"
   ]
  },
  {
   "cell_type": "code",
   "execution_count": 16,
   "id": "54579bd5",
   "metadata": {},
   "outputs": [],
   "source": [
    "#renomeamos colunas e indexar no nome pelo inplace\n",
    "\n",
    "tx_desocupacao.rename(columns={'Indices':'Desemprego'},inplace = True)"
   ]
  },
  {
   "cell_type": "code",
   "execution_count": 10,
   "id": "f17b6db7",
   "metadata": {},
   "outputs": [
    {
     "name": "stdout",
     "output_type": "stream",
     "text": [
      "[7.38, 7.3, 6.875, 8.424999999999999, 11.383333333333333, 12.875, 12.383333333333333, 12.058333333333332, 13.5, 13.70909090909091]\n"
     ]
    }
   ],
   "source": [
    "#Visualizando dados dos indices em lista.\n",
    "\n",
    "print(tx_desocupacao['Desemprego'].to_list())"
   ]
  },
  {
   "cell_type": "markdown",
   "id": "6323dc5f",
   "metadata": {},
   "source": [
    "DESEMPREGO - ANÁLISE\n",
    "\n",
    "A média dos indices de desemprego aumentam gradativamente na ultima década."
   ]
  },
  {
   "cell_type": "code",
   "execution_count": 14,
   "id": "5d1667e7",
   "metadata": {},
   "outputs": [
    {
     "data": {
      "image/png": "[encoded data removed]",
      "text/plain": [
       "<Figure size 432x288 with 1 Axes>"
      ]
     },
     "metadata": {
      "needs_background": "light"
     },
     "output_type": "display_data"
    }
   ],
   "source": [
    "#Plotamos um gráfico de barras com a média de desemprego anual, nos Últimos anos.\n",
    "#criando uma figure, axes\n",
    "fig, ax = plt.subplots()\n",
    "\n",
    "sns.barplot(x=tx_desocupacao.index, y=tx_desocupacao['Desemprego'], ax=ax, data=tx_desocupacao['Datas'])\n",
    "\n",
    "plt.title('Média Anual Desemprego')\n",
    "\n",
    "fig.tight_layout()"
   ]
  },
  {
   "cell_type": "code",
   "execution_count": 15,
   "id": "c8f347ff",
   "metadata": {},
   "outputs": [],
   "source": [
    "# Importação base de dados da VARIÁVEL Endividamento (Selecionamos somente a primeira aba que possui todos os dados).\n",
    "\n",
    "Endividamento = pd.read_excel('C:/Users/Fabiola/OneDrive/Documentos/MTI/Artigo/Dados/EndividamentoBra.xls',sheet_name = \"TodosResultados\")"
   ]
  },
  {
   "cell_type": "code",
   "execution_count": 16,
   "id": "9674c192",
   "metadata": {},
   "outputs": [
    {
     "data": {
      "text/plain": [
       "['Unnamed: 0',\n",
       " 'Nível de Endividamento (% do total de famílias)',\n",
       " 'Muito endividado',\n",
       " 'Mais ou Menos endividado',\n",
       " 'Pouco Endividado',\n",
       " 'Não tem dívidas desse tipo',\n",
       " 'Não sabe',\n",
       " 'Não respondeu',\n",
       " 'Familias Endividadas (% do total de famílias)',\n",
       " 'Tipo de dívida (% do total de famílias)',\n",
       " 'Cartão de crédito',\n",
       " 'Cheque especial',\n",
       " 'Cheque pré-datado',\n",
       " 'Crédito consignado',\n",
       " 'Crédito pessoal',\n",
       " 'Carnês',\n",
       " 'Financiamento de carro',\n",
       " 'Financiamento de casa',\n",
       " 'Outras dívidas',\n",
       " 'Não sabe.1',\n",
       " 'Não respondeu.1',\n",
       " 'Famílias com conta em Atraso (% dos endividados)',\n",
       " 'Sim',\n",
       " 'Não',\n",
       " 'Não sabe.2',\n",
       " 'Não respondeu.2',\n",
       " 'Familias com contas em Atraso (% do total de famílias)',\n",
       " 'Condições de pagamento da dívida em atraso (% das famílias com contas em atraso)',\n",
       " 'Sim, totalmente',\n",
       " 'Sim, em parte',\n",
       " 'Não terá condições de pagar',\n",
       " 'Não sabe.3',\n",
       " 'Não respondeu.3',\n",
       " 'Não terão condição de pagar contas em atraso (% do total de famílias)',\n",
       " 'Tempo de pagamento em atraso (Dentre as famílias com contas em atraso)',\n",
       " 'Até 30 dias',\n",
       " 'De 30 a 90 dias',\n",
       " 'Acima de 90 dias',\n",
       " 'Não sabe/ Não respondeu',\n",
       " 'Tempo médio (em dias)',\n",
       " 'Tempo de comprometimento com dívida (% dos endividados)',\n",
       " 'Até 3 meses',\n",
       " 'Entre 3 e 6 meses',\n",
       " 'Entre 6 meses e 1 ano',\n",
       " 'Por mais de um ano',\n",
       " 'Não sabe/ Não respondeu.1',\n",
       " 'Tempo médio (em meses)',\n",
       " 'Parcela da renda comprometida com dívida (% dos endividados)',\n",
       " 'Menos de 10%',\n",
       " 'De 11% a 50%',\n",
       " 'Superior a 50%',\n",
       " 'Não sabe/ Não respondeu.2',\n",
       " 'Parcela média (% da renda)',\n",
       " 'PEIC (% do total de famílias)',\n",
       " 'Famílias endividadas ',\n",
       " 'Famílias com conta em Atraso',\n",
       " 'Famílias que não terão condições de pagar as dívidas em atraso',\n",
       " 'PEIC (em número absolutos)',\n",
       " 'Famílias endividadas .1',\n",
       " 'Famílias com conta em Atraso.1',\n",
       " 'Famílias que não terão condições de pagar as dívidas em atraso.1',\n",
       " 'Unnamed: 61',\n",
       " 'Unnamed: 62',\n",
       " 'Unnamed: 63',\n",
       " 'Unnamed: 64',\n",
       " 'Unnamed: 65',\n",
       " 'Unnamed: 66',\n",
       " 'Unnamed: 67',\n",
       " 'Unnamed: 68',\n",
       " 'Unnamed: 69',\n",
       " 'Unnamed: 70',\n",
       " 'Unnamed: 71',\n",
       " 'Unnamed: 72',\n",
       " 'Unnamed: 73',\n",
       " 'Unnamed: 74',\n",
       " 'Unnamed: 75',\n",
       " 'Unnamed: 76',\n",
       " 'Unnamed: 77',\n",
       " 'Unnamed: 78',\n",
       " 'Unnamed: 79',\n",
       " 'Unnamed: 80',\n",
       " 'Unnamed: 81',\n",
       " 'Unnamed: 82',\n",
       " 'Unnamed: 83',\n",
       " 'Unnamed: 84',\n",
       " 'Unnamed: 85',\n",
       " 'Unnamed: 86',\n",
       " 'Unnamed: 87',\n",
       " 'Unnamed: 88',\n",
       " 'Unnamed: 89',\n",
       " 'Unnamed: 90',\n",
       " 'Unnamed: 91',\n",
       " 'Unnamed: 92',\n",
       " 'Unnamed: 93',\n",
       " 'Unnamed: 94',\n",
       " 'Unnamed: 95',\n",
       " 'Unnamed: 96',\n",
       " 'Unnamed: 97',\n",
       " 'Unnamed: 98',\n",
       " 'Unnamed: 99',\n",
       " 'Unnamed: 100',\n",
       " 'Unnamed: 101',\n",
       " 'Unnamed: 102',\n",
       " 'Unnamed: 103',\n",
       " 'Unnamed: 104',\n",
       " 'Unnamed: 105',\n",
       " 'Unnamed: 106',\n",
       " 'Unnamed: 107',\n",
       " 'Unnamed: 108',\n",
       " 'Unnamed: 109',\n",
       " 'Unnamed: 110',\n",
       " nan]"
      ]
     },
     "execution_count": 16,
     "metadata": {},
     "output_type": "execute_result"
    }
   ],
   "source": [
    "# Como foi uma Pesquisa amostral foi necessária a seleção somente dos percentuais totais  dos tópicos inerentes à investigação.\n",
    "\n",
    "list(Endividamento.columns)"
   ]
  },
  {
   "cell_type": "code",
   "execution_count": 86,
   "id": "961f0630",
   "metadata": {},
   "outputs": [],
   "source": [
    "# importando a base de dados novamente com as colunas especificas do Endividamento(somente primeira aba por possui todos os dados)\n",
    "\n",
    "Endividamento = pd.read_excel('C:/Users/Fabiola/OneDrive/Documentos/MTI/Artigo/Dados/EndividamentoBra.xls',\n",
    "                              sheet_name = \"TodosResultados\",\n",
    "                              usecols = ['Unnamed: 0','Famílias endividadas .1', \n",
    "                                         'Famílias com conta em Atraso.1', \n",
    "                                         'Famílias que não terão condições de pagar as dívidas em atraso.1'])"
   ]
  },
  {
   "cell_type": "code",
   "execution_count": 87,
   "id": "f436f130",
   "metadata": {},
   "outputs": [
    {
     "data": {
      "text/html": [
       "<div>\n",
       "<style scoped>\n",
       "    .dataframe tbody tr th:only-of-type {\n",
       "        vertical-align: middle;\n",
       "    }\n",
       "\n",
       "    .dataframe tbody tr th {\n",
       "        vertical-align: top;\n",
       "    }\n",
       "\n",
       "    .dataframe thead th {\n",
       "        text-align: right;\n",
       "    }\n",
       "</style>\n",
       "<table border=\"1\" class=\"dataframe\">\n",
       "  <thead>\n",
       "    <tr style=\"text-align: right;\">\n",
       "      <th></th>\n",
       "      <th>Unnamed: 0</th>\n",
       "      <th>Famílias endividadas .1</th>\n",
       "      <th>Famílias com conta em Atraso.1</th>\n",
       "      <th>Famílias que não terão condições de pagar as dívidas em atraso.1</th>\n",
       "    </tr>\n",
       "  </thead>\n",
       "  <tbody>\n",
       "    <tr>\n",
       "      <th>0</th>\n",
       "      <td>2010-01-01</td>\n",
       "      <td>8.964992e+06</td>\n",
       "      <td>4.405072e+06</td>\n",
       "      <td>1.456665e+06</td>\n",
       "    </tr>\n",
       "    <tr>\n",
       "      <th>1</th>\n",
       "      <td>2010-02-01</td>\n",
       "      <td>9.059222e+06</td>\n",
       "      <td>3.926985e+06</td>\n",
       "      <td>1.224179e+06</td>\n",
       "    </tr>\n",
       "    <tr>\n",
       "      <th>2</th>\n",
       "      <td>2010-03-01</td>\n",
       "      <td>9.190462e+06</td>\n",
       "      <td>4.163213e+06</td>\n",
       "      <td>1.262141e+06</td>\n",
       "    </tr>\n",
       "    <tr>\n",
       "      <th>3</th>\n",
       "      <td>2010-04-01</td>\n",
       "      <td>8.464659e+06</td>\n",
       "      <td>3.696875e+06</td>\n",
       "      <td>1.292983e+06</td>\n",
       "    </tr>\n",
       "    <tr>\n",
       "      <th>4</th>\n",
       "      <td>2010-05-01</td>\n",
       "      <td>8.578619e+06</td>\n",
       "      <td>3.856320e+06</td>\n",
       "      <td>1.293158e+06</td>\n",
       "    </tr>\n",
       "  </tbody>\n",
       "</table>\n",
       "</div>"
      ],
      "text/plain": [
       "  Unnamed: 0  Famílias endividadas .1  Famílias com conta em Atraso.1  \\\n",
       "0 2010-01-01             8.964992e+06                    4.405072e+06   \n",
       "1 2010-02-01             9.059222e+06                    3.926985e+06   \n",
       "2 2010-03-01             9.190462e+06                    4.163213e+06   \n",
       "3 2010-04-01             8.464659e+06                    3.696875e+06   \n",
       "4 2010-05-01             8.578619e+06                    3.856320e+06   \n",
       "\n",
       "   Famílias que não terão condições de pagar as dívidas em atraso.1  \n",
       "0                                       1.456665e+06                 \n",
       "1                                       1.224179e+06                 \n",
       "2                                       1.262141e+06                 \n",
       "3                                       1.292983e+06                 \n",
       "4                                       1.293158e+06                 "
      ]
     },
     "execution_count": 87,
     "metadata": {},
     "output_type": "execute_result"
    }
   ],
   "source": [
    "# Visualização dos dados\n",
    "\n",
    "Endividamento.head()"
   ]
  },
  {
   "cell_type": "code",
   "execution_count": 88,
   "id": "92ac3adb",
   "metadata": {},
   "outputs": [],
   "source": [
    "#Renomear colunas e indexar o novos nomes.\n",
    "\n",
    "Endividamento.rename(columns={'Unnamed: 0':'Datas', 'Famílias endividadas .1':'Famílias endividadas', \n",
    "                              'Famílias com conta em Atraso.1':'Famílias com conta em Atraso', \n",
    "                              'Famílias que não terão condições de pagar as dívidas em atraso.1':'Famílias que não terão condições de pagar as dívidas em atraso'}, inplace = True)"
   ]
  },
  {
   "cell_type": "code",
   "execution_count": 89,
   "id": "8c6604a3",
   "metadata": {},
   "outputs": [
    {
     "data": {
      "text/html": [
       "<div>\n",
       "<style scoped>\n",
       "    .dataframe tbody tr th:only-of-type {\n",
       "        vertical-align: middle;\n",
       "    }\n",
       "\n",
       "    .dataframe tbody tr th {\n",
       "        vertical-align: top;\n",
       "    }\n",
       "\n",
       "    .dataframe thead th {\n",
       "        text-align: right;\n",
       "    }\n",
       "</style>\n",
       "<table border=\"1\" class=\"dataframe\">\n",
       "  <thead>\n",
       "    <tr style=\"text-align: right;\">\n",
       "      <th></th>\n",
       "      <th>Datas</th>\n",
       "      <th>Famílias endividadas</th>\n",
       "      <th>Famílias com conta em Atraso</th>\n",
       "      <th>Famílias que não terão condições de pagar as dívidas em atraso</th>\n",
       "    </tr>\n",
       "  </thead>\n",
       "  <tbody>\n",
       "    <tr>\n",
       "      <th>0</th>\n",
       "      <td>2010-01-01</td>\n",
       "      <td>8.964992e+06</td>\n",
       "      <td>4.405072e+06</td>\n",
       "      <td>1.456665e+06</td>\n",
       "    </tr>\n",
       "    <tr>\n",
       "      <th>1</th>\n",
       "      <td>2010-02-01</td>\n",
       "      <td>9.059222e+06</td>\n",
       "      <td>3.926985e+06</td>\n",
       "      <td>1.224179e+06</td>\n",
       "    </tr>\n",
       "    <tr>\n",
       "      <th>2</th>\n",
       "      <td>2010-03-01</td>\n",
       "      <td>9.190462e+06</td>\n",
       "      <td>4.163213e+06</td>\n",
       "      <td>1.262141e+06</td>\n",
       "    </tr>\n",
       "    <tr>\n",
       "      <th>3</th>\n",
       "      <td>2010-04-01</td>\n",
       "      <td>8.464659e+06</td>\n",
       "      <td>3.696875e+06</td>\n",
       "      <td>1.292983e+06</td>\n",
       "    </tr>\n",
       "    <tr>\n",
       "      <th>4</th>\n",
       "      <td>2010-05-01</td>\n",
       "      <td>8.578619e+06</td>\n",
       "      <td>3.856320e+06</td>\n",
       "      <td>1.293158e+06</td>\n",
       "    </tr>\n",
       "  </tbody>\n",
       "</table>\n",
       "</div>"
      ],
      "text/plain": [
       "       Datas  Famílias endividadas  Famílias com conta em Atraso  \\\n",
       "0 2010-01-01          8.964992e+06                  4.405072e+06   \n",
       "1 2010-02-01          9.059222e+06                  3.926985e+06   \n",
       "2 2010-03-01          9.190462e+06                  4.163213e+06   \n",
       "3 2010-04-01          8.464659e+06                  3.696875e+06   \n",
       "4 2010-05-01          8.578619e+06                  3.856320e+06   \n",
       "\n",
       "   Famílias que não terão condições de pagar as dívidas em atraso  \n",
       "0                                       1.456665e+06               \n",
       "1                                       1.224179e+06               \n",
       "2                                       1.262141e+06               \n",
       "3                                       1.292983e+06               \n",
       "4                                       1.293158e+06               "
      ]
     },
     "execution_count": 89,
     "metadata": {},
     "output_type": "execute_result"
    }
   ],
   "source": [
    "#Visualização com os novos nomes\n",
    "\n",
    "Endividamento.head()"
   ]
  },
  {
   "cell_type": "code",
   "execution_count": 60,
   "id": "b6f4d7ed",
   "metadata": {},
   "outputs": [
    {
     "name": "stdout",
     "output_type": "stream",
     "text": [
      "<class 'pandas.core.frame.DataFrame'>\n",
      "RangeIndex: 144 entries, 0 to 143\n",
      "Data columns (total 4 columns):\n",
      " #   Column                                                          Non-Null Count  Dtype         \n",
      "---  ------                                                          --------------  -----         \n",
      " 0   Datas                                                           144 non-null    datetime64[ns]\n",
      " 1   Famílias endividadas                                            144 non-null    float64       \n",
      " 2   Famílias com conta em Atraso                                    144 non-null    float64       \n",
      " 3   Famílias que não terão condições de pagar as dívidas em atraso  144 non-null    float64       \n",
      "dtypes: datetime64[ns](1), float64(3)\n",
      "memory usage: 4.6 KB\n"
     ]
    }
   ],
   "source": [
    "#Confirmação do tipo e outras informações sobre os dados.\n",
    "\n",
    "Endividamento.info()"
   ]
  },
  {
   "cell_type": "code",
   "execution_count": 61,
   "id": "004ea89b",
   "metadata": {},
   "outputs": [
    {
     "name": "stdout",
     "output_type": "stream",
     "text": [
      "     Ano  Famílias endividadas  Famílias com conta em Atraso  \\\n",
      "0   2010          8.642616e+06                  3.766928e+06   \n",
      "1   2011          9.090478e+06                  3.398160e+06   \n",
      "2   2012          8.470610e+06                  3.039488e+06   \n",
      "3   2013          9.109768e+06                  3.043350e+06   \n",
      "4   2014          9.041244e+06                  2.836560e+06   \n",
      "5   2015          8.921747e+06                  3.075872e+06   \n",
      "6   2016          9.448241e+06                  3.723440e+06   \n",
      "7   2017          9.681798e+06                  3.942647e+06   \n",
      "8   2018          9.665659e+06                  3.787941e+06   \n",
      "9   2019          1.028027e+07                  3.841278e+06   \n",
      "10  2020          1.079092e+07                  4.140443e+06   \n",
      "11  2021          1.155476e+07                  4.114597e+06   \n",
      "\n",
      "    Famílias que não terão condições de pagar as dívidas em atraso  \n",
      "0                                        1.288364e+06               \n",
      "1                                        1.152317e+06               \n",
      "2                                        1.015280e+06               \n",
      "3                                        9.986609e+05               \n",
      "4                                        8.998700e+05               \n",
      "5                                        1.109012e+06               \n",
      "6                                        1.419072e+06               \n",
      "7                                        1.607818e+06               \n",
      "8                                        1.587618e+06               \n",
      "9                                        1.610413e+06               \n",
      "10                                       1.817635e+06               \n",
      "11                                       1.712212e+06               \n"
     ]
    }
   ],
   "source": [
    "#O formato das datas está em datetime , porém possui vários meses de cada anao , para melhor visualização agrupamos por ano.\n",
    "\n",
    "Endividamento['Ano'] = Endividamento['Datas'].map(lambda x: 1*x.year)\n",
    "\n",
    "#Criamos um Dataframe com o Ano e as variaveis.\n",
    "Endividamento = Endividamento.loc[:, ['Ano', 'Famílias endividadas','Famílias com conta em Atraso','Famílias que não terão condições de pagar as dívidas em atraso']]\n",
    "\n",
    "# Agrupamos por ano, com as médias de todas as variáveis relacionadas ao endividamento.\n",
    "Endividamento1 = Endividamento.groupby(['Ano']).mean().reset_index()\n",
    "\n",
    "print(Endividamento1)\n"
   ]
  },
  {
   "cell_type": "code",
   "execution_count": 49,
   "id": "458bd409",
   "metadata": {},
   "outputs": [
    {
     "data": {
      "image/png": "[encoded data removed]",
      "text/plain": [
       "<Figure size 1080x576 with 2 Axes>"
      ]
     },
     "metadata": {},
     "output_type": "display_data"
    }
   ],
   "source": [
    "# Analisamos os resultados das variáveis para perceber se as pessoas que tem dividas é proporcional ao numero de\n",
    "# pessoas que informaram não ter condições de pagar.\n",
    "\n",
    "sns.set(rc={'figure.figsize':(15,8)})\n",
    "ax = Endividamento1.plot(x=\"Ano\", y=\"Famílias com conta em Atraso\",ylabel='Contas em Atraso' ,legend=False)\n",
    "ax2 = ax.twinx()\n",
    "Endividamento1.plot(x=\"Ano\", y=\"Famílias que não terão condições de pagar as dívidas em atraso\", ylabel='Não vão Pagar',ax=ax2, legend = False , color=\"r\")\n",
    "ax.figure.legend()\n",
    "plt.title('Contas em aberto: Não terão condições de Pagar')\n",
    "plt.show()"
   ]
  },
  {
   "cell_type": "markdown",
   "id": "15da0150",
   "metadata": {},
   "source": [
    "Podemos observar que as duas variáveis são aparentemente proporcionais no período, porém visualizamos um ponto de atenção onde o total das famílias que alegaram não ter condição de pagar diminui consideravelmente enquanto as que têm contas em atraso permanece estável. isto justifica-se por fatores macroenomicos, que aparentemente está relacionado à pandemia. Porém, percebe-se nesta analise a importantancia de não analisar as duas variáveis isoladamente, pois existem outros fatores relacionados ao poder de pagamento e inadimplencia."
   ]
  },
  {
   "cell_type": "code",
   "execution_count": 50,
   "id": "ee80159a",
   "metadata": {},
   "outputs": [],
   "source": [
    "## Importação base de dados da VARIÁVEL Rendas.\n",
    "\n",
    "Rendimento = pd.read_excel('C:/Users/Fabiola/OneDrive/Documentos/MTI/Artigo/Dados/Rendimento.xls')\n"
   ]
  },
  {
   "cell_type": "code",
   "execution_count": 51,
   "id": "86da324d",
   "metadata": {},
   "outputs": [
    {
     "data": {
      "text/html": [
       "<div>\n",
       "<style scoped>\n",
       "    .dataframe tbody tr th:only-of-type {\n",
       "        vertical-align: middle;\n",
       "    }\n",
       "\n",
       "    .dataframe tbody tr th {\n",
       "        vertical-align: top;\n",
       "    }\n",
       "\n",
       "    .dataframe thead th {\n",
       "        text-align: right;\n",
       "    }\n",
       "</style>\n",
       "<table border=\"1\" class=\"dataframe\">\n",
       "  <thead>\n",
       "    <tr style=\"text-align: right;\">\n",
       "      <th></th>\n",
       "      <th>Datas</th>\n",
       "      <th>Renda</th>\n",
       "    </tr>\n",
       "  </thead>\n",
       "  <tbody>\n",
       "    <tr>\n",
       "      <th>0</th>\n",
       "      <td>jan-fev-mar 2012</td>\n",
       "      <td>2492</td>\n",
       "    </tr>\n",
       "    <tr>\n",
       "      <th>1</th>\n",
       "      <td>fev-mar-abr 2012</td>\n",
       "      <td>2501</td>\n",
       "    </tr>\n",
       "    <tr>\n",
       "      <th>2</th>\n",
       "      <td>mar-abr-mai 2012</td>\n",
       "      <td>2494</td>\n",
       "    </tr>\n",
       "    <tr>\n",
       "      <th>3</th>\n",
       "      <td>abr-mai-jun 2012</td>\n",
       "      <td>2500</td>\n",
       "    </tr>\n",
       "    <tr>\n",
       "      <th>4</th>\n",
       "      <td>mai-jun-jul 2012</td>\n",
       "      <td>2513</td>\n",
       "    </tr>\n",
       "  </tbody>\n",
       "</table>\n",
       "</div>"
      ],
      "text/plain": [
       "              Datas  Renda\n",
       "0  jan-fev-mar 2012   2492\n",
       "1  fev-mar-abr 2012   2501\n",
       "2  mar-abr-mai 2012   2494\n",
       "3  abr-mai-jun 2012   2500\n",
       "4  mai-jun-jul 2012   2513"
      ]
     },
     "execution_count": 51,
     "metadata": {},
     "output_type": "execute_result"
    }
   ],
   "source": [
    "#Visualizand os dados.\n",
    "Rendimento.head()"
   ]
  },
  {
   "cell_type": "code",
   "execution_count": 52,
   "id": "25a32897",
   "metadata": {},
   "outputs": [
    {
     "name": "stdout",
     "output_type": "stream",
     "text": [
      "  Datas        Renda\n",
      "0  2012  2506.600000\n",
      "1  2013  2573.250000\n",
      "2  2014  2625.000000\n",
      "3  2015  2602.750000\n",
      "4  2016  2544.166667\n",
      "5  2017  2584.500000\n",
      "6  2018  2625.166667\n",
      "7  2019  2640.166667\n",
      "8  2020  2749.750000\n",
      "9  2021  2601.454545\n"
     ]
    }
   ],
   "source": [
    "#O formato das datas está em string selecionando um periodo de três meses , para melhor visualização fatiamos a strin,\n",
    "# e deixamos somente o ano para padronização.\n",
    "\n",
    "Rendimento['Datas'] = Rendimento['Datas'].apply(lambda x: x[12:16])\n",
    "\n",
    "#Agrupamos por média anual.\n",
    "Rendimento = Rendimento.groupby(['Datas']).mean().reset_index()\n",
    "\n",
    "print(Rendimento)"
   ]
  },
  {
   "cell_type": "code",
   "execution_count": 53,
   "id": "dfeda67b",
   "metadata": {},
   "outputs": [
    {
     "data": {
      "text/html": [
       "<div>\n",
       "<style scoped>\n",
       "    .dataframe tbody tr th:only-of-type {\n",
       "        vertical-align: middle;\n",
       "    }\n",
       "\n",
       "    .dataframe tbody tr th {\n",
       "        vertical-align: top;\n",
       "    }\n",
       "\n",
       "    .dataframe thead th {\n",
       "        text-align: right;\n",
       "    }\n",
       "</style>\n",
       "<table border=\"1\" class=\"dataframe\">\n",
       "  <thead>\n",
       "    <tr style=\"text-align: right;\">\n",
       "      <th></th>\n",
       "      <th>Datas</th>\n",
       "      <th>Renda</th>\n",
       "    </tr>\n",
       "  </thead>\n",
       "  <tbody>\n",
       "    <tr>\n",
       "      <th>0</th>\n",
       "      <td>2012</td>\n",
       "      <td>2506.600000</td>\n",
       "    </tr>\n",
       "    <tr>\n",
       "      <th>1</th>\n",
       "      <td>2013</td>\n",
       "      <td>2573.250000</td>\n",
       "    </tr>\n",
       "    <tr>\n",
       "      <th>2</th>\n",
       "      <td>2014</td>\n",
       "      <td>2625.000000</td>\n",
       "    </tr>\n",
       "    <tr>\n",
       "      <th>3</th>\n",
       "      <td>2015</td>\n",
       "      <td>2602.750000</td>\n",
       "    </tr>\n",
       "    <tr>\n",
       "      <th>4</th>\n",
       "      <td>2016</td>\n",
       "      <td>2544.166667</td>\n",
       "    </tr>\n",
       "  </tbody>\n",
       "</table>\n",
       "</div>"
      ],
      "text/plain": [
       "  Datas        Renda\n",
       "0  2012  2506.600000\n",
       "1  2013  2573.250000\n",
       "2  2014  2625.000000\n",
       "3  2015  2602.750000\n",
       "4  2016  2544.166667"
      ]
     },
     "execution_count": 53,
     "metadata": {},
     "output_type": "execute_result"
    }
   ],
   "source": [
    "#Visualizando os novos dados.\n",
    "\n",
    "Rendimento.head()"
   ]
  },
  {
   "cell_type": "markdown",
   "id": "6d1d2a9a",
   "metadata": {},
   "source": [
    "ANÁLISE EM CONJUNTO ESTATÍSTICAS DESCRITIVAS DAS DUAS FONTES DE DADOS\n",
    "\n",
    "\n"
   ]
  },
  {
   "cell_type": "code",
   "execution_count": 272,
   "id": "4170f10a",
   "metadata": {},
   "outputs": [
    {
     "name": "stdout",
     "output_type": "stream",
     "text": [
      "       Indices_Desemprego  Famílias_endividadas        Renda\n",
      "count          117.000000          1.440000e+02   117.000000\n",
      "mean            10.617094          9.558176e+06  2607.000000\n",
      "std              2.714847          9.191446e+05    71.850299\n",
      "min              6.300000          7.892410e+06  2444.000000\n",
      "25%              7.700000          8.952713e+06  2556.000000\n",
      "50%             11.700000          9.372106e+06  2611.000000\n",
      "75%             12.700000          9.906863e+06  2635.000000\n",
      "max             14.900000          1.244110e+07  2830.000000\n"
     ]
    }
   ],
   "source": [
    "#ANALISES DOS ÍNDICES DE FORMA GERAL\n",
    "\n",
    "#Criar um dicionario de series\n",
    "D = {'Indices_Desemprego':pd.Series([8.0, 7.8, 7.7, 7.6, 7.5, 7.4, 7.1, 7.0, 6.8, 6.9, 7.3, 7.8, 8.1, 7.9, 7.7, 7.5, 7.4, 7.2, 7.0, 6.8, 6.6, 6.3, 6.5, 6.8, 7.2, 7.2, 7.1, 6.9, 7.0, 7.0, 6.9, 6.7, 6.6, 6.6, 6.9, 7.5, 8.0, 8.1, 8.3, 8.4, 8.7, 8.9, 9.0, 9.1, 9.1, 9.1, 9.6, 10.3, 11.1, 11.3, 11.3, 11.4, 11.7, 11.9, 11.9, 11.9, 12.0, 12.2, 12.7, 13.3, 13.9, 13.7, 13.4, 13.1, 12.9, 12.7, 12.5, 12.3, 12.1, 11.9, 12.3, 12.7, 13.2, 13.0, 12.8, 12.6, 12.4, 12.3, 12.0, 11.9, 11.7, 11.7, 12.2, 12.6, 12.8, 12.6, 12.4, 12.1, 12.0, 11.9, 11.9, 11.8, 11.3, 11.1, 11.4, 11.8, 12.4, 12.7, 13.1, 13.6, 14.1, 14.8, 14.9, 14.6, 14.4, 14.2, 14.5, 14.6, 14.9, 14.8, 14.7, 14.2, 13.7, 13.1, 12.6, 12.1, 11.6]),\n",
    "   'Famílias_endividadas':pd.Series([8964991.6909989, 9059222.16074737, 9190461.52134513, 8464659.327236159, 8578619.06929778, 7892410.367229525, 8415376.304555025, 8635219.941735374, 8669272.071296155, 8566125.49353273, 8743015.688692387, 8532015.093938706, 8672612.56875457, 9527911.196857763, 9476521.942759765, 9157637.540050179, 9403097.559426479, 9356106.33337407, 9262684.765943587, 9112137.731509386, 8990575.633015322, 8949810.08580106, 8606803.241121994, 8569838.198378598, 8600865.869214261, 8401881.854084916, 8393390.329880727, 8259529.967707413, 8108906.902641939, 8325230.951534845, 8355861.055646938, 8658574.154347993, 8525475.897852425, 8596380.218996324, 8586139.15937846, 8835078.431144778, 8772321.108605133, 8950801.174789395, 8901198.916684218, 9155238.91104769, 9355039.384779308, 9177420.898554577, 9501705.172671149, 9199288.351217173, 8970864.678214232, 9066440.65139772, 9204758.275196068, 9062140.222953785, 9201722.724683816, 9135893.507572422, 8897427.693702905, 9069374.767655525, 9144186.024627617, 9133932.941503515, 9202689.58249538, 9301372.944243537, 9239575.566361457, 8822319.40202278, 8669351.090615304, 8677085.694228075, 8437268.67835527, 8477398.409662912, 8726142.170361202, 8991411.933491595, 9092600.768182835, 9027315.498613706, 9006309.214229643, 9124908.548806248, 9241099.465338346, 9063131.499866668, 8920023.788369497, 8953350.642884223, 9003638.227099631, 9605057.488664806, 9511753.992221927, 9653899.330352234, 9536293.037944531, 9415725.129267078, 9388106.530559706, 9477347.995624164, 9528434.336997313, 9477449.421955466, 9434743.629898053, 9346446.47082347, 9323408.90742853, 9334324.918526385, 9668525.456736851, 9870751.070568219, 9666569.808721405, 9466807.928512532, 9603625.101023223, 9744463.100487294, 9823043.216750901, 9860892.009249277, 9904145.0560654, 9915015.740132758, 9800509.034926774, 9788287.330311593, 9797186.004380772, 9637260.624910725, 9462764.485185705, 9396686.379349139, 9551757.413154675, 9723044.64471315, 9728093.619411025, 9743523.074708, 9712557.045069147, 9646237.485420313, 9696780.86058181, 9926567.840654807, 10076171.644009521, 10125614.058242189, 10237701.110777175, 10341689.96572751, 10356426.473013135, 10469896.437987158, 10516629.552871596, 10470484.372914584, 10531191.73573114, 10614071.717141071, 10593873.446400186, 10564190.137951573, 10737723.590590602, 10802862.822455496, 10769589.810825098, 10880760.595483962, 10952419.635754973, 10960547.692858784, 10909826.21441491, 10802823.863590283, 10731124.080969939, 10785302.061175823, 10823593.340453088, 10876205.531627392, 10978502.975759055, 11003118.06521, 11085759.422728736, 11349784.654701259, 11639164.476635346, 11890738.645244703, 12072439.355449589, 12169236.141793933, 12327454.103333425, 12441098.036757996]),\n",
    "   'Renda':pd.Series([2492, 2501, 2494, 2500, 2513, 2521, 2516, 2513, 2511, 2505, 2515, 2530, 2545, 2551, 2552, 2573, 2590, 2608, 2608, 2616, 2606, 2585, 2583, 2607, 2637, 2635, 2630, 2616, 2611, 2630, 2639, 2649, 2631, 2632, 2636, 2631, 2632, 2626, 2614, 2621, 2603, 2591, 2590, 2580, 2561, 2548, 2556, 2540, 2552, 2539, 2548, 2521, 2523, 2545, 2542, 2547, 2552, 2565, 2574, 2582, 2597, 2585, 2582, 2572, 2573, 2569, 2582, 2591, 2603, 2604, 2614, 2624, 2623, 2631, 2632, 2628, 2618, 2629, 2618, 2621, 2624, 2640, 2656, 2665, 2654, 2640, 2622, 2622, 2616, 2627, 2626, 2646, 2658, 2650, 2656, 2658, 2680, 2709, 2754, 2797, 2830, 2826, 2828, 2786, 2757, 2716, 2709, 2686, 2694, 2661, 2659, 2619, 2595, 2559, 2514, 2476, 2444])}\n",
    "\n",
    "#Criar a DataFrame\n",
    "Analise = pd.DataFrame(D)\n",
    "print (Analise.describe())"
   ]
  },
  {
   "cell_type": "code",
   "execution_count": null,
   "id": "4ec03497",
   "metadata": {},
   "outputs": [],
   "source": [
    "CRIAÇÃO DE UM DATAFRAME COM AS MÉDIAS ANUAIS DE CADA VARIÁVEL PARA CONCLUSÃO."
   ]
  },
  {
   "cell_type": "code",
   "execution_count": 260,
   "id": "54937bc8",
   "metadata": {
    "scrolled": true
   },
   "outputs": [
    {
     "name": "stdout",
     "output_type": "stream",
     "text": [
      "[2506.6, 2573.25, 2625.0, 2602.75, 2544.1666666666665, 2584.5, 2625.1666666666665, 2640.1666666666665, 2749.75, 2601.4545454545455]\n"
     ]
    }
   ],
   "source": [
    "# Visualizando MÉDIA DE RENDA em lista.\n",
    "\n",
    "print(Rendimento['Renda'].to_list())"
   ]
  },
  {
   "cell_type": "code",
   "execution_count": 64,
   "id": "439e271b",
   "metadata": {},
   "outputs": [
    {
     "name": "stdout",
     "output_type": "stream",
     "text": [
      "[8642615.727550438, 9090478.066416064, 8470609.566035919, 9109768.145509204, 9041244.32830936, 8921746.718180178, 9448241.299284032, 9681797.69285023, 9665658.928461751, 10280268.814137641, 10790920.329372635, 11554757.895807877]\n"
     ]
    }
   ],
   "source": [
    "#Visualizando MÉDIA DE ENDIVIDAMENTO em lista.\n",
    "\n",
    "print(Endividamento1['Famílias endividadas'].to_list())"
   ]
  },
  {
   "cell_type": "code",
   "execution_count": 65,
   "id": "b44c6cb5",
   "metadata": {},
   "outputs": [
    {
     "name": "stdout",
     "output_type": "stream",
     "text": [
      "[7.38, 7.3, 6.875, 8.424999999999999, 11.383333333333333, 12.875, 12.383333333333333, 12.058333333333332, 13.5, 13.70909090909091]\n"
     ]
    }
   ],
   "source": [
    "#Visualizando MÉDIA DE DESEMPREGO em lista.\n",
    "\n",
    "print(tx_desocupacao['Desemprego'].to_list())"
   ]
  },
  {
   "cell_type": "code",
   "execution_count": 74,
   "id": "0005bb45",
   "metadata": {},
   "outputs": [
    {
     "name": "stdout",
     "output_type": "stream",
     "text": [
      "    Indices_Desemprego  Famílias_endividadas        Renda   Ano\n",
      "0             6.700000          8.642616e+06  2419.000000  2010\n",
      "1             6.700000          9.090478e+06  2419.000000  2011\n",
      "2             7.380000          8.470610e+06  2506.600000  2012\n",
      "3             7.300000          9.109768e+06  2573.250000  2013\n",
      "4             6.875000          9.041244e+06  2625.000000  2014\n",
      "5             8.425000          8.921747e+06  2602.750000  2015\n",
      "6            11.383333          9.448241e+06  2544.166667  2016\n",
      "7            12.875000          9.681798e+06  2584.500000  2017\n",
      "8            12.383333          9.665659e+06  2625.166667  2018\n",
      "9            12.058333          1.028027e+07  2640.166667  2019\n",
      "10           13.500000          1.079092e+07  2749.750000  2020\n",
      "11           13.709091          1.155476e+07  2601.454545  2021\n"
     ]
    }
   ],
   "source": [
    "#Criamos um dicionário acrescetado manualmente o rendimento médio de 2010 e 2011 pois não tinhamos na base de dados:\n",
    "##2010 - Não havia a inda a pesquisa da PNAD Então utilizei a média de 2011 .\n",
    "##2011 (Renda:2419.0 e 6.7)Fonte: https://censo2010.ibge.gov.br/noticias-censo.html?busca=1&id=1&idnoticia=2222&t=pnad-2011-crescimento-renda-foi-maior-classes-rendimento-mais-baixas&view=noticia\n",
    "\n",
    "S = {'Indices_Desemprego':pd.Series([6.70, 6.70, 7.38, 7.3, 6.875, 8.424999999999999, 11.383333333333333, 12.875, 12.383333333333333, 12.058333333333332, 13.5, 13.70909090909091]),\n",
    "   'Famílias_endividadas':pd.Series([8642615.727550438, 9090478.066416064, 8470609.566035919, 9109768.145509204, 9041244.32830936, 8921746.718180178, 9448241.299284032, 9681797.69285023, 9665658.928461751, 10280268.814137641, 10790920.329372635, 11554757.895807877]),\n",
    "   'Renda':pd.Series([2419.0, 2419.0, 2506.6, 2573.25, 2625.0, 2602.75, 2544.1666666666665, 2584.5, 2625.1666666666665, 2640.1666666666665, 2749.75, 2601.4545454545455]),\n",
    "    'Ano':pd.Series([2010, 2011, 2012, 2013, 2014, 2015, 2016, 2017, 2018, 2019, 2020, 2021])}\n",
    "\n",
    "#Criar a DataFrame\n",
    "Analise2 = pd.DataFrame(S)\n",
    "print (Analise2)"
   ]
  },
  {
   "cell_type": "code",
   "execution_count": 82,
   "id": "425c087b",
   "metadata": {},
   "outputs": [
    {
     "data": {
      "image/png": "[encoded data removed]",
      "text/plain": [
       "<Figure size 1080x576 with 2 Axes>"
      ]
     },
     "metadata": {},
     "output_type": "display_data"
    }
   ],
   "source": [
    "#Plotando as série\n",
    "\n",
    "sns.set(rc={'figure.figsize':(15,8)})\n",
    "ax = Analise2.plot(x=\"Ano\", y=\"Famílias_endividadas\",ylabel='Inadimplência' ,legend=False, ls = '-', lw = '2', marker = '^', ms = '10')\n",
    "ax2 = ax.twinx()\n",
    "Analise2.plot(x=\"Ano\", y=\"Indices_Desemprego\", ylabel='Desemprego',ax=ax2, legend = False , color=\"r\", ls = '-', lw = '2', marker = 'o', ms = '10')\n",
    "ax.figure.legend()\n",
    "plt.title('Endividamento X Desemprego')\n",
    "plt.show()"
   ]
  },
  {
   "cell_type": "markdown",
   "id": "1dc7ef35",
   "metadata": {},
   "source": [
    "Verificamos que a medida média das familias endividadas foi expressivamente alta em 2021. Quando analisamos a média da renda nos últimos anos, não percebemos um aumento relevante que seja compatível ao aumento do consumo, e às altas taxas de desemprego."
   ]
  },
  {
   "cell_type": "code",
   "execution_count": 96,
   "id": "2b033d81",
   "metadata": {},
   "outputs": [
    {
     "data": {
      "text/plain": [
       "<AxesSubplot:>"
      ]
     },
     "execution_count": 96,
     "metadata": {},
     "output_type": "execute_result"
    },
    {
     "data": {
      "image/png": "[encoded data removed]",
      "text/plain": [
       "<Figure size 1080x576 with 1 Axes>"
      ]
     },
     "metadata": {},
     "output_type": "display_data"
    },
    {
     "data": {
      "image/png": "[encoded data removed]",
      "text/plain": [
       "<Figure size 1080x576 with 1 Axes>"
      ]
     },
     "metadata": {},
     "output_type": "display_data"
    }
   ],
   "source": [
    "Analise2 = pd.DataFrame(np.random.rand(10,3),columns=['Famílias_endividadas', 'Indices_Desemprego', 'Renda'])\n",
    "Analise2.plot.bar()\n",
    "Analise2.plot.bar(stacked=True)"
   ]
  },
  {
   "cell_type": "markdown",
   "id": "104cc7dd",
   "metadata": {},
   "source": [
    "Os possíveis fatores onde o endividamento tem um maior potencial, podem ser analisados através de variáveis que determinam capacidade de endividamento dos consumidores. A análise da inadimplência de maneira macro econômica  proporciona oportunidades de discussão em relação a adequações de problemas preexistentes, informações sobre o nível de comprometimento da renda do consumidor com dívidas, contas em atraso, e sua percepção em relação à capacidade de pagamento.\n",
    "A análise temporal, com dados a longo prazo, é uma importante aliada como ferramenta de análise de expectativas e objetivos. O desafio então é  possuir bases de dados compatíveis para realizar as análises entre si. \n",
    "A inadimplência em relação ao desemprego e renda seria mais precisa se considerássemos outras variáveis como sexo, idade, região etc.; Todas as variáveis de uma pesquisa por amostragem são necessárias para compreender as características e interpretá-las corretamente.\n",
    "Entretanto, neste estudo é possivel visualisar que o comprometimento médio da renda entre as famílias com dívidas, é alto em relação ao seu endividamento. Uma parcela menor de consumidores relatou estar muito endividada e não ter condições de quitar suas dívidas.\n",
    "Um possível fator que justifique a discrepância dos percetuais de endividamentos registrados em 2021, é o fato das famílias terem menor poder de renda, menos empregabilidade e mais dívidas em atraso.\n"
   ]
  }
 ],
 "metadata": {
  "kernelspec": {
   "display_name": "Python 3 (ipykernel)",
   "language": "python",
   "name": "python3"
  },
  "language_info": {
   "codemirror_mode": {
    "name": "ipython",
    "version": 3
   },
   "file_extension": ".py",
   "mimetype": "text/x-python",
   "name": "python",
   "nbconvert_exporter": "python",
   "pygments_lexer": "ipython3",
   "version": "3.9.7"
  }
 },
 "nbformat": 4,
 "nbformat_minor": 5
}
